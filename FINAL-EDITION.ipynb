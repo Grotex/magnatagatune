{
 "cells": [
  {
   "cell_type": "code",
   "execution_count": 99,
   "metadata": {},
   "outputs": [],
   "source": [
    "import pandas as pd\n",
    "import numpy as np\n",
    "import matplotlib\n",
    "import matplotlib.pyplot as plt\n",
    "%matplotlib inline\n",
    "import librosa, librosa.display\n",
    "import sklearn\n",
    "import keras\n",
    "from keras.models import Model, Sequential, Input\n",
    "from keras.layers import Conv2D\n",
    "import keras.backend as K"
   ]
  },
  {
   "cell_type": "markdown",
   "metadata": {},
   "source": [
    "# Load in Data and peek at dataframe"
   ]
  },
  {
   "cell_type": "markdown",
   "metadata": {},
   "source": [
    "1. 25863 mp3 mono audio files, each of 30 seconds long\n",
    "2. 188 labels associated with each song"
   ]
  },
  {
   "cell_type": "code",
   "execution_count": 100,
   "metadata": {
    "collapsed": true
   },
   "outputs": [],
   "source": [
    "df = pd.read_csv(\"../annotations_final.csv\",sep=\"\\t\")\n",
    "df2=pd.read_csv(\"../clip_info_final.csv\",sep=\"\\t\")"
   ]
  },
  {
   "cell_type": "code",
   "execution_count": 101,
   "metadata": {},
   "outputs": [
    {
     "name": "stdout",
     "output_type": "stream",
     "text": [
      "(25863, 190) (31382, 10)\n"
     ]
    }
   ],
   "source": [
    "print(df.shape,df2.shape)"
   ]
  },
  {
   "cell_type": "code",
   "execution_count": 102,
   "metadata": {},
   "outputs": [
    {
     "data": {
      "text/html": [
       "<div>\n",
       "<style scoped>\n",
       "    .dataframe tbody tr th:only-of-type {\n",
       "        vertical-align: middle;\n",
       "    }\n",
       "\n",
       "    .dataframe tbody tr th {\n",
       "        vertical-align: top;\n",
       "    }\n",
       "\n",
       "    .dataframe thead th {\n",
       "        text-align: right;\n",
       "    }\n",
       "</style>\n",
       "<table border=\"1\" class=\"dataframe\">\n",
       "  <thead>\n",
       "    <tr style=\"text-align: right;\">\n",
       "      <th></th>\n",
       "      <th>clip_id</th>\n",
       "      <th>no voice</th>\n",
       "      <th>singer</th>\n",
       "      <th>duet</th>\n",
       "      <th>plucking</th>\n",
       "      <th>hard rock</th>\n",
       "      <th>world</th>\n",
       "      <th>bongos</th>\n",
       "      <th>harpsichord</th>\n",
       "      <th>female singing</th>\n",
       "      <th>...</th>\n",
       "      <th>rap</th>\n",
       "      <th>metal</th>\n",
       "      <th>hip hop</th>\n",
       "      <th>quick</th>\n",
       "      <th>water</th>\n",
       "      <th>baroque</th>\n",
       "      <th>women</th>\n",
       "      <th>fiddle</th>\n",
       "      <th>english</th>\n",
       "      <th>mp3_path</th>\n",
       "    </tr>\n",
       "  </thead>\n",
       "  <tbody>\n",
       "    <tr>\n",
       "      <th>0</th>\n",
       "      <td>2</td>\n",
       "      <td>0</td>\n",
       "      <td>0</td>\n",
       "      <td>0</td>\n",
       "      <td>0</td>\n",
       "      <td>0</td>\n",
       "      <td>0</td>\n",
       "      <td>0</td>\n",
       "      <td>0</td>\n",
       "      <td>0</td>\n",
       "      <td>...</td>\n",
       "      <td>0</td>\n",
       "      <td>0</td>\n",
       "      <td>0</td>\n",
       "      <td>0</td>\n",
       "      <td>0</td>\n",
       "      <td>0</td>\n",
       "      <td>0</td>\n",
       "      <td>0</td>\n",
       "      <td>0</td>\n",
       "      <td>f/american_bach_soloists-j_s__bach_solo_cantat...</td>\n",
       "    </tr>\n",
       "    <tr>\n",
       "      <th>1</th>\n",
       "      <td>6</td>\n",
       "      <td>0</td>\n",
       "      <td>0</td>\n",
       "      <td>0</td>\n",
       "      <td>0</td>\n",
       "      <td>0</td>\n",
       "      <td>0</td>\n",
       "      <td>0</td>\n",
       "      <td>0</td>\n",
       "      <td>0</td>\n",
       "      <td>...</td>\n",
       "      <td>0</td>\n",
       "      <td>0</td>\n",
       "      <td>0</td>\n",
       "      <td>0</td>\n",
       "      <td>0</td>\n",
       "      <td>1</td>\n",
       "      <td>0</td>\n",
       "      <td>0</td>\n",
       "      <td>0</td>\n",
       "      <td>f/american_bach_soloists-j_s__bach_solo_cantat...</td>\n",
       "    </tr>\n",
       "    <tr>\n",
       "      <th>2</th>\n",
       "      <td>10</td>\n",
       "      <td>0</td>\n",
       "      <td>0</td>\n",
       "      <td>0</td>\n",
       "      <td>0</td>\n",
       "      <td>0</td>\n",
       "      <td>0</td>\n",
       "      <td>0</td>\n",
       "      <td>0</td>\n",
       "      <td>0</td>\n",
       "      <td>...</td>\n",
       "      <td>0</td>\n",
       "      <td>0</td>\n",
       "      <td>0</td>\n",
       "      <td>0</td>\n",
       "      <td>0</td>\n",
       "      <td>0</td>\n",
       "      <td>0</td>\n",
       "      <td>0</td>\n",
       "      <td>0</td>\n",
       "      <td>f/american_bach_soloists-j_s__bach_solo_cantat...</td>\n",
       "    </tr>\n",
       "    <tr>\n",
       "      <th>3</th>\n",
       "      <td>11</td>\n",
       "      <td>0</td>\n",
       "      <td>0</td>\n",
       "      <td>0</td>\n",
       "      <td>0</td>\n",
       "      <td>0</td>\n",
       "      <td>0</td>\n",
       "      <td>0</td>\n",
       "      <td>0</td>\n",
       "      <td>0</td>\n",
       "      <td>...</td>\n",
       "      <td>0</td>\n",
       "      <td>0</td>\n",
       "      <td>0</td>\n",
       "      <td>0</td>\n",
       "      <td>0</td>\n",
       "      <td>0</td>\n",
       "      <td>0</td>\n",
       "      <td>0</td>\n",
       "      <td>0</td>\n",
       "      <td>f/american_bach_soloists-j_s__bach_solo_cantat...</td>\n",
       "    </tr>\n",
       "    <tr>\n",
       "      <th>4</th>\n",
       "      <td>12</td>\n",
       "      <td>0</td>\n",
       "      <td>0</td>\n",
       "      <td>0</td>\n",
       "      <td>0</td>\n",
       "      <td>0</td>\n",
       "      <td>0</td>\n",
       "      <td>0</td>\n",
       "      <td>0</td>\n",
       "      <td>0</td>\n",
       "      <td>...</td>\n",
       "      <td>0</td>\n",
       "      <td>0</td>\n",
       "      <td>0</td>\n",
       "      <td>0</td>\n",
       "      <td>0</td>\n",
       "      <td>0</td>\n",
       "      <td>0</td>\n",
       "      <td>0</td>\n",
       "      <td>0</td>\n",
       "      <td>f/american_bach_soloists-j_s__bach_solo_cantat...</td>\n",
       "    </tr>\n",
       "    <tr>\n",
       "      <th>5</th>\n",
       "      <td>14</td>\n",
       "      <td>0</td>\n",
       "      <td>0</td>\n",
       "      <td>0</td>\n",
       "      <td>0</td>\n",
       "      <td>0</td>\n",
       "      <td>0</td>\n",
       "      <td>0</td>\n",
       "      <td>0</td>\n",
       "      <td>0</td>\n",
       "      <td>...</td>\n",
       "      <td>0</td>\n",
       "      <td>0</td>\n",
       "      <td>0</td>\n",
       "      <td>0</td>\n",
       "      <td>0</td>\n",
       "      <td>0</td>\n",
       "      <td>0</td>\n",
       "      <td>0</td>\n",
       "      <td>0</td>\n",
       "      <td>c/lvx_nova-lvx_nova-01-contimune-30-59.mp3</td>\n",
       "    </tr>\n",
       "    <tr>\n",
       "      <th>6</th>\n",
       "      <td>19</td>\n",
       "      <td>0</td>\n",
       "      <td>0</td>\n",
       "      <td>0</td>\n",
       "      <td>0</td>\n",
       "      <td>0</td>\n",
       "      <td>0</td>\n",
       "      <td>0</td>\n",
       "      <td>0</td>\n",
       "      <td>0</td>\n",
       "      <td>...</td>\n",
       "      <td>0</td>\n",
       "      <td>0</td>\n",
       "      <td>0</td>\n",
       "      <td>0</td>\n",
       "      <td>0</td>\n",
       "      <td>0</td>\n",
       "      <td>0</td>\n",
       "      <td>0</td>\n",
       "      <td>0</td>\n",
       "      <td>c/lvx_nova-lvx_nova-01-contimune-175-204.mp3</td>\n",
       "    </tr>\n",
       "    <tr>\n",
       "      <th>7</th>\n",
       "      <td>21</td>\n",
       "      <td>0</td>\n",
       "      <td>0</td>\n",
       "      <td>0</td>\n",
       "      <td>0</td>\n",
       "      <td>0</td>\n",
       "      <td>0</td>\n",
       "      <td>0</td>\n",
       "      <td>0</td>\n",
       "      <td>0</td>\n",
       "      <td>...</td>\n",
       "      <td>0</td>\n",
       "      <td>0</td>\n",
       "      <td>0</td>\n",
       "      <td>0</td>\n",
       "      <td>0</td>\n",
       "      <td>0</td>\n",
       "      <td>0</td>\n",
       "      <td>0</td>\n",
       "      <td>0</td>\n",
       "      <td>c/lvx_nova-lvx_nova-01-contimune-233-262.mp3</td>\n",
       "    </tr>\n",
       "    <tr>\n",
       "      <th>8</th>\n",
       "      <td>23</td>\n",
       "      <td>0</td>\n",
       "      <td>0</td>\n",
       "      <td>0</td>\n",
       "      <td>0</td>\n",
       "      <td>0</td>\n",
       "      <td>0</td>\n",
       "      <td>0</td>\n",
       "      <td>0</td>\n",
       "      <td>0</td>\n",
       "      <td>...</td>\n",
       "      <td>0</td>\n",
       "      <td>0</td>\n",
       "      <td>0</td>\n",
       "      <td>0</td>\n",
       "      <td>0</td>\n",
       "      <td>0</td>\n",
       "      <td>0</td>\n",
       "      <td>0</td>\n",
       "      <td>0</td>\n",
       "      <td>c/lvx_nova-lvx_nova-01-contimune-291-320.mp3</td>\n",
       "    </tr>\n",
       "    <tr>\n",
       "      <th>9</th>\n",
       "      <td>25</td>\n",
       "      <td>0</td>\n",
       "      <td>0</td>\n",
       "      <td>0</td>\n",
       "      <td>0</td>\n",
       "      <td>0</td>\n",
       "      <td>0</td>\n",
       "      <td>0</td>\n",
       "      <td>0</td>\n",
       "      <td>0</td>\n",
       "      <td>...</td>\n",
       "      <td>0</td>\n",
       "      <td>0</td>\n",
       "      <td>0</td>\n",
       "      <td>0</td>\n",
       "      <td>0</td>\n",
       "      <td>0</td>\n",
       "      <td>0</td>\n",
       "      <td>0</td>\n",
       "      <td>0</td>\n",
       "      <td>0/american_bach_soloists-j_s__bach__cantatas_v...</td>\n",
       "    </tr>\n",
       "  </tbody>\n",
       "</table>\n",
       "<p>10 rows × 190 columns</p>\n",
       "</div>"
      ],
      "text/plain": [
       "   clip_id  no voice  singer  duet  plucking  hard rock  world  bongos  \\\n",
       "0        2         0       0     0         0          0      0       0   \n",
       "1        6         0       0     0         0          0      0       0   \n",
       "2       10         0       0     0         0          0      0       0   \n",
       "3       11         0       0     0         0          0      0       0   \n",
       "4       12         0       0     0         0          0      0       0   \n",
       "5       14         0       0     0         0          0      0       0   \n",
       "6       19         0       0     0         0          0      0       0   \n",
       "7       21         0       0     0         0          0      0       0   \n",
       "8       23         0       0     0         0          0      0       0   \n",
       "9       25         0       0     0         0          0      0       0   \n",
       "\n",
       "   harpsichord  female singing  ...  rap  metal  hip hop  quick  water  \\\n",
       "0            0               0  ...    0      0        0      0      0   \n",
       "1            0               0  ...    0      0        0      0      0   \n",
       "2            0               0  ...    0      0        0      0      0   \n",
       "3            0               0  ...    0      0        0      0      0   \n",
       "4            0               0  ...    0      0        0      0      0   \n",
       "5            0               0  ...    0      0        0      0      0   \n",
       "6            0               0  ...    0      0        0      0      0   \n",
       "7            0               0  ...    0      0        0      0      0   \n",
       "8            0               0  ...    0      0        0      0      0   \n",
       "9            0               0  ...    0      0        0      0      0   \n",
       "\n",
       "   baroque  women  fiddle  english  \\\n",
       "0        0      0       0        0   \n",
       "1        1      0       0        0   \n",
       "2        0      0       0        0   \n",
       "3        0      0       0        0   \n",
       "4        0      0       0        0   \n",
       "5        0      0       0        0   \n",
       "6        0      0       0        0   \n",
       "7        0      0       0        0   \n",
       "8        0      0       0        0   \n",
       "9        0      0       0        0   \n",
       "\n",
       "                                            mp3_path  \n",
       "0  f/american_bach_soloists-j_s__bach_solo_cantat...  \n",
       "1  f/american_bach_soloists-j_s__bach_solo_cantat...  \n",
       "2  f/american_bach_soloists-j_s__bach_solo_cantat...  \n",
       "3  f/american_bach_soloists-j_s__bach_solo_cantat...  \n",
       "4  f/american_bach_soloists-j_s__bach_solo_cantat...  \n",
       "5         c/lvx_nova-lvx_nova-01-contimune-30-59.mp3  \n",
       "6       c/lvx_nova-lvx_nova-01-contimune-175-204.mp3  \n",
       "7       c/lvx_nova-lvx_nova-01-contimune-233-262.mp3  \n",
       "8       c/lvx_nova-lvx_nova-01-contimune-291-320.mp3  \n",
       "9  0/american_bach_soloists-j_s__bach__cantatas_v...  \n",
       "\n",
       "[10 rows x 190 columns]"
      ]
     },
     "execution_count": 102,
     "metadata": {},
     "output_type": "execute_result"
    }
   ],
   "source": [
    "df.head(10)"
   ]
  },
  {
   "cell_type": "code",
   "execution_count": 103,
   "metadata": {},
   "outputs": [
    {
     "data": {
      "text/html": [
       "<div>\n",
       "<style scoped>\n",
       "    .dataframe tbody tr th:only-of-type {\n",
       "        vertical-align: middle;\n",
       "    }\n",
       "\n",
       "    .dataframe tbody tr th {\n",
       "        vertical-align: top;\n",
       "    }\n",
       "\n",
       "    .dataframe thead th {\n",
       "        text-align: right;\n",
       "    }\n",
       "</style>\n",
       "<table border=\"1\" class=\"dataframe\">\n",
       "  <thead>\n",
       "    <tr style=\"text-align: right;\">\n",
       "      <th></th>\n",
       "      <th>clip_id</th>\n",
       "      <th>track_number</th>\n",
       "      <th>title</th>\n",
       "      <th>artist</th>\n",
       "      <th>album</th>\n",
       "      <th>url</th>\n",
       "      <th>segmentStart</th>\n",
       "      <th>segmentEnd</th>\n",
       "      <th>original_url</th>\n",
       "      <th>mp3_path</th>\n",
       "    </tr>\n",
       "  </thead>\n",
       "  <tbody>\n",
       "    <tr>\n",
       "      <th>0</th>\n",
       "      <td>2</td>\n",
       "      <td>1</td>\n",
       "      <td>BWV54 - I Aria</td>\n",
       "      <td>American Bach Soloists</td>\n",
       "      <td>J.S. Bach Solo Cantatas</td>\n",
       "      <td>http://www.magnatune.com/artists/albums/abs-so...</td>\n",
       "      <td>30</td>\n",
       "      <td>59</td>\n",
       "      <td>http://he3.magnatune.com/all/01--BWV54%20-%20I...</td>\n",
       "      <td>f/american_bach_soloists-j_s__bach_solo_cantat...</td>\n",
       "    </tr>\n",
       "    <tr>\n",
       "      <th>1</th>\n",
       "      <td>6</td>\n",
       "      <td>1</td>\n",
       "      <td>BWV54 - I Aria</td>\n",
       "      <td>American Bach Soloists</td>\n",
       "      <td>J.S. Bach Solo Cantatas</td>\n",
       "      <td>http://www.magnatune.com/artists/albums/abs-so...</td>\n",
       "      <td>146</td>\n",
       "      <td>175</td>\n",
       "      <td>http://he3.magnatune.com/all/01--BWV54%20-%20I...</td>\n",
       "      <td>f/american_bach_soloists-j_s__bach_solo_cantat...</td>\n",
       "    </tr>\n",
       "    <tr>\n",
       "      <th>2</th>\n",
       "      <td>10</td>\n",
       "      <td>1</td>\n",
       "      <td>BWV54 - I Aria</td>\n",
       "      <td>American Bach Soloists</td>\n",
       "      <td>J.S. Bach Solo Cantatas</td>\n",
       "      <td>http://www.magnatune.com/artists/albums/abs-so...</td>\n",
       "      <td>262</td>\n",
       "      <td>291</td>\n",
       "      <td>http://he3.magnatune.com/all/01--BWV54%20-%20I...</td>\n",
       "      <td>f/american_bach_soloists-j_s__bach_solo_cantat...</td>\n",
       "    </tr>\n",
       "    <tr>\n",
       "      <th>3</th>\n",
       "      <td>11</td>\n",
       "      <td>1</td>\n",
       "      <td>BWV54 - I Aria</td>\n",
       "      <td>American Bach Soloists</td>\n",
       "      <td>J.S. Bach Solo Cantatas</td>\n",
       "      <td>http://www.magnatune.com/artists/albums/abs-so...</td>\n",
       "      <td>291</td>\n",
       "      <td>320</td>\n",
       "      <td>http://he3.magnatune.com/all/01--BWV54%20-%20I...</td>\n",
       "      <td>f/american_bach_soloists-j_s__bach_solo_cantat...</td>\n",
       "    </tr>\n",
       "    <tr>\n",
       "      <th>4</th>\n",
       "      <td>12</td>\n",
       "      <td>1</td>\n",
       "      <td>BWV54 - I Aria</td>\n",
       "      <td>American Bach Soloists</td>\n",
       "      <td>J.S. Bach Solo Cantatas</td>\n",
       "      <td>http://www.magnatune.com/artists/albums/abs-so...</td>\n",
       "      <td>320</td>\n",
       "      <td>349</td>\n",
       "      <td>http://he3.magnatune.com/all/01--BWV54%20-%20I...</td>\n",
       "      <td>f/american_bach_soloists-j_s__bach_solo_cantat...</td>\n",
       "    </tr>\n",
       "    <tr>\n",
       "      <th>5</th>\n",
       "      <td>14</td>\n",
       "      <td>1</td>\n",
       "      <td>Contimune</td>\n",
       "      <td>LVX Nova</td>\n",
       "      <td>LVX Nova</td>\n",
       "      <td>http://www.magnatune.com/artists/albums/lvxnov...</td>\n",
       "      <td>30</td>\n",
       "      <td>59</td>\n",
       "      <td>http://he3.magnatune.com/all/01--Contimune--LV...</td>\n",
       "      <td>c/lvx_nova-lvx_nova-01-contimune-30-59.mp3</td>\n",
       "    </tr>\n",
       "  </tbody>\n",
       "</table>\n",
       "</div>"
      ],
      "text/plain": [
       "   clip_id  track_number           title                  artist  \\\n",
       "0        2             1  BWV54 - I Aria  American Bach Soloists   \n",
       "1        6             1  BWV54 - I Aria  American Bach Soloists   \n",
       "2       10             1  BWV54 - I Aria  American Bach Soloists   \n",
       "3       11             1  BWV54 - I Aria  American Bach Soloists   \n",
       "4       12             1  BWV54 - I Aria  American Bach Soloists   \n",
       "5       14             1       Contimune                LVX Nova   \n",
       "\n",
       "                     album                                                url  \\\n",
       "0  J.S. Bach Solo Cantatas  http://www.magnatune.com/artists/albums/abs-so...   \n",
       "1  J.S. Bach Solo Cantatas  http://www.magnatune.com/artists/albums/abs-so...   \n",
       "2  J.S. Bach Solo Cantatas  http://www.magnatune.com/artists/albums/abs-so...   \n",
       "3  J.S. Bach Solo Cantatas  http://www.magnatune.com/artists/albums/abs-so...   \n",
       "4  J.S. Bach Solo Cantatas  http://www.magnatune.com/artists/albums/abs-so...   \n",
       "5                 LVX Nova  http://www.magnatune.com/artists/albums/lvxnov...   \n",
       "\n",
       "   segmentStart  segmentEnd  \\\n",
       "0            30          59   \n",
       "1           146         175   \n",
       "2           262         291   \n",
       "3           291         320   \n",
       "4           320         349   \n",
       "5            30          59   \n",
       "\n",
       "                                        original_url  \\\n",
       "0  http://he3.magnatune.com/all/01--BWV54%20-%20I...   \n",
       "1  http://he3.magnatune.com/all/01--BWV54%20-%20I...   \n",
       "2  http://he3.magnatune.com/all/01--BWV54%20-%20I...   \n",
       "3  http://he3.magnatune.com/all/01--BWV54%20-%20I...   \n",
       "4  http://he3.magnatune.com/all/01--BWV54%20-%20I...   \n",
       "5  http://he3.magnatune.com/all/01--Contimune--LV...   \n",
       "\n",
       "                                            mp3_path  \n",
       "0  f/american_bach_soloists-j_s__bach_solo_cantat...  \n",
       "1  f/american_bach_soloists-j_s__bach_solo_cantat...  \n",
       "2  f/american_bach_soloists-j_s__bach_solo_cantat...  \n",
       "3  f/american_bach_soloists-j_s__bach_solo_cantat...  \n",
       "4  f/american_bach_soloists-j_s__bach_solo_cantat...  \n",
       "5         c/lvx_nova-lvx_nova-01-contimune-30-59.mp3  "
      ]
     },
     "execution_count": 103,
     "metadata": {},
     "output_type": "execute_result"
    }
   ],
   "source": [
    "df2.head(6)"
   ]
  },
  {
   "cell_type": "markdown",
   "metadata": {},
   "source": [
    "# Ground truth Labels"
   ]
  },
  {
   "cell_type": "code",
   "execution_count": 104,
   "metadata": {},
   "outputs": [
    {
     "name": "stdout",
     "output_type": "stream",
     "text": [
      "[[0 0 0 ... 0 0 0]\n",
      " [0 0 0 ... 0 0 0]\n",
      " [0 0 0 ... 0 0 0]\n",
      " ...\n",
      " [0 0 0 ... 0 0 0]\n",
      " [0 0 0 ... 0 0 0]\n",
      " [0 0 0 ... 0 0 0]] (25863, 188)\n"
     ]
    }
   ],
   "source": [
    "y=df.values[:,1:-1]\n",
    "#this y contains clip id as its first column\n",
    "print(y,y.shape)"
   ]
  },
  {
   "cell_type": "markdown",
   "metadata": {},
   "source": [
    "# Feature extraction"
   ]
  },
  {
   "cell_type": "markdown",
   "metadata": {},
   "source": [
    "1. use feature extraction methods from VGGish, preprocess.py\n",
    "2. perform transfer learning on VGGish network"
   ]
  },
  {
   "cell_type": "code",
   "execution_count": 105,
   "metadata": {
    "collapsed": true
   },
   "outputs": [],
   "source": [
    "#split dataset into train and test set\n",
    "n=df.shape[0]\n",
    "n_test=n//4\n",
    "test_idx=np.arange(0,n_test)\n",
    "train_idx=np.arange(n_test,n)"
   ]
  },
  {
   "cell_type": "code",
   "execution_count": 106,
   "metadata": {
    "collapsed": true
   },
   "outputs": [],
   "source": [
    "#this takes input as batch size and output the input batch and ground truth labels\n",
    "def batchmatrix(batch_size,df,idx):\n",
    "    #idx=np.arange(0,df.shape[0])\n",
    "    np.random.shuffle(idx)\n",
    "    idx_shuffled=idx[:batch_size]\n",
    "    batchmatrix=np.zeros((batch_size,96,64))\n",
    "    batchy=np.zeros((batch_size,188))\n",
    "    for m,i in enumerate(idx_shuffled):\n",
    "        x,fs=librosa.load(df[\"mp3_path\"][i])\n",
    "        X=preprocess_sound.preprocess_sound(x, fs)\n",
    "        X_slice=X[random.randint(0,X.shape[0]-1),:,:]\n",
    "        batchmatrix[m,:,:]=X_slice\n",
    "        batchy[m,:]=df.values[i,1:-1]\n",
    "        \n",
    "    return batchmatrix,batchy"
   ]
  },
  {
   "cell_type": "markdown",
   "metadata": {},
   "source": [
    "# Transfer Learning from VGGish net"
   ]
  },
  {
   "cell_type": "code",
   "execution_count": 107,
   "metadata": {
    "scrolled": true
   },
   "outputs": [],
   "source": [
    "import vggish_input\n",
    "import vggish_params\n",
    "import vggish_postprocess\n",
    "import vggish_slim\n",
    "import vggish\n",
    "import preprocess_sound\n",
    "import random"
   ]
  },
  {
   "cell_type": "code",
   "execution_count": 108,
   "metadata": {
    "collapsed": true
   },
   "outputs": [],
   "source": [
    "from __future__ import print_function\n",
    "# from keras.datasets import cifar10\n",
    "from keras.preprocessing.image import ImageDataGenerator\n",
    "from keras.models import Sequential\n",
    "from keras.models import load_model #save and load models\n",
    "from keras.layers import Dense, Dropout, Activation, Flatten\n",
    "from keras.layers import Conv2D, MaxPooling2D\n",
    "from keras.layers.normalization import BatchNormalization\n",
    "\n"
   ]
  },
  {
   "cell_type": "code",
   "execution_count": 109,
   "metadata": {},
   "outputs": [],
   "source": [
    "model=vggish.VGGish(load_weights=True, weights='audioset',\n",
    "           input_tensor=None, input_shape=None,\n",
    "           out_dim=None, include_top=False, pooling='avg')\n",
    "new_model=Sequential()\n",
    "for layer in model.layers:\n",
    "    new_model.add(layer)\n",
    "    layer.trainable=False\n",
    "    \n",
    "\n",
    "#new_model.add(Flatten())\n",
    "new_model.add(BatchNormalization())\n",
    "new_model.add(Dropout(0.5))\n",
    "new_model.add(Dense(512, activation = 'relu'))\n",
    "new_model.add(BatchNormalization())\n",
    "new_model.add(Dropout(0.5))\n",
    "new_model.add(Dense(188, activation='softmax'))"
   ]
  },
  {
   "cell_type": "code",
   "execution_count": 110,
   "metadata": {
    "collapsed": true
   },
   "outputs": [],
   "source": [
    "new_model.compile(loss='binary_crossentropy', optimizer='adam', metrics=['accuracy'])"
   ]
  },
  {
   "cell_type": "code",
   "execution_count": 111,
   "metadata": {},
   "outputs": [
    {
     "name": "stdout",
     "output_type": "stream",
     "text": [
      "_________________________________________________________________\n",
      "Layer (type)                 Output Shape              Param #   \n",
      "=================================================================\n",
      "conv1 (Conv2D)               (None, 96, 64, 64)        640       \n",
      "_________________________________________________________________\n",
      "pool1 (MaxPooling2D)         (None, 48, 32, 64)        0         \n",
      "_________________________________________________________________\n",
      "conv2 (Conv2D)               (None, 48, 32, 128)       73856     \n",
      "_________________________________________________________________\n",
      "pool2 (MaxPooling2D)         (None, 24, 16, 128)       0         \n",
      "_________________________________________________________________\n",
      "conv3/conv3_1 (Conv2D)       (None, 24, 16, 256)       295168    \n",
      "_________________________________________________________________\n",
      "conv3/conv3_2 (Conv2D)       (None, 24, 16, 256)       590080    \n",
      "_________________________________________________________________\n",
      "pool3 (MaxPooling2D)         (None, 12, 8, 256)        0         \n",
      "_________________________________________________________________\n",
      "conv4/conv4_1 (Conv2D)       (None, 12, 8, 512)        1180160   \n",
      "_________________________________________________________________\n",
      "conv4/conv4_2 (Conv2D)       (None, 12, 8, 512)        2359808   \n",
      "_________________________________________________________________\n",
      "pool4 (MaxPooling2D)         (None, 6, 4, 512)         0         \n",
      "_________________________________________________________________\n",
      "global_average_pooling2d_2 ( (None, 512)               0         \n",
      "_________________________________________________________________\n",
      "batch_normalization_3 (Batch (None, 512)               2048      \n",
      "_________________________________________________________________\n",
      "dropout_3 (Dropout)          (None, 512)               0         \n",
      "_________________________________________________________________\n",
      "dense_3 (Dense)              (None, 512)               262656    \n",
      "_________________________________________________________________\n",
      "batch_normalization_4 (Batch (None, 512)               2048      \n",
      "_________________________________________________________________\n",
      "dropout_4 (Dropout)          (None, 512)               0         \n",
      "_________________________________________________________________\n",
      "dense_4 (Dense)              (None, 188)               96444     \n",
      "=================================================================\n",
      "Total params: 4,862,908\n",
      "Trainable params: 361,148\n",
      "Non-trainable params: 4,501,760\n",
      "_________________________________________________________________\n"
     ]
    }
   ],
   "source": [
    "new_model.summary()"
   ]
  },
  {
   "cell_type": "markdown",
   "metadata": {},
   "source": [
    "# Batch processing"
   ]
  },
  {
   "cell_type": "markdown",
   "metadata": {},
   "source": [
    "1. using pescador to generate streamers"
   ]
  },
  {
   "cell_type": "code",
   "execution_count": 112,
   "metadata": {
    "collapsed": true
   },
   "outputs": [],
   "source": [
    "def feature_sampler_new(df,idx):\n",
    "    \n",
    "    while True:\n",
    "        #np.random.shuffle(idx)\n",
    "        #i=idx[0]\n",
    "        pkl_file = open('./pickles/train/'+str(idx)+'.pkl', 'rb')\n",
    "        X_slice,y = pickle.load(pkl_file)       \n",
    "        yield{'X': X_slice[:,:,None],'y': y}    \n",
    "\n",
    "\n",
    "        \n",
    "def feature_sampler(df,idx):\n",
    "    \n",
    "    while True:\n",
    "        #np.random.shuffle(idx)\n",
    "        #i=idx[0]\n",
    "        i=idx\n",
    "        y=df.values[i,1:-1]\n",
    "        x,fs=librosa.load(df[\"mp3_path\"][i])\n",
    "        X=preprocess_sound.preprocess_sound(x, fs)\n",
    "        X_slice=X[random.randint(0,X.shape[0]-1),:,:]\n",
    "        #X_slice.reshape(-1,96,64,1)\n",
    "        #[:,:,None]\n",
    "        yield{'X': X_slice[:,:,None],'y': y}\n",
    "\n",
    "    \n",
    "def data_generator(batch_size, idx, active_streamers,\n",
    "                        rate, random_state=12345678):\n",
    "    seeds = []\n",
    "    for i in idx:\n",
    "        streamer = pescador.Streamer(feature_sampler, df, i)\n",
    "        seeds.append(streamer)\n",
    "\n",
    "    # Randomly shuffle the seeds\n",
    "    random.shuffle(seeds)\n",
    "\n",
    "    mux = pescador.StochasticMux(seeds, active_streamers, rate=rate, random_state=random_state)\n",
    "\n",
    "    if batch_size == 1:\n",
    "        return mux\n",
    "    else:\n",
    "        return pescador.maps.buffer_stream(mux, batch_size)\n",
    "\n",
    "    \n"
   ]
  },
  {
   "cell_type": "markdown",
   "metadata": {},
   "source": [
    "# Train the model"
   ]
  },
  {
   "cell_type": "code",
   "execution_count": 113,
   "metadata": {
    "collapsed": true
   },
   "outputs": [],
   "source": [
    "import pescador\n",
    "from tensorflow.python.keras.utils.data_utils import Sequence"
   ]
  },
  {
   "cell_type": "code",
   "execution_count": 114,
   "metadata": {
    "collapsed": true
   },
   "outputs": [],
   "source": [
    "epochs=12\n",
    "batch_size=32\n",
    "random_state=12345678\n",
    "active_streamers=20\n",
    "train_batches=data_generator(batch_size,train_idx,active_streamers,rate=64,random_state=random_state)\n",
    "test_batches=data_generator(batch_size,test_idx,active_streamers,rate=64,random_state=random_state)\n",
    "steps_per_epoch = len(train_idx) // batch_size\n"
   ]
  },
  {
   "cell_type": "code",
   "execution_count": null,
   "metadata": {},
   "outputs": [
    {
     "name": "stdout",
     "output_type": "stream",
     "text": [
      "Epoch 1/12\n",
      "  4/606 [..............................] - ETA: 12:35:09 - loss: 0.1258 - acc: 0.9812"
     ]
    }
   ],
   "source": [
    "hist = new_model.fit_generator(\n",
    "        pescador.maps.keras_tuples(train_batches, 'X', 'y'),\n",
    "        steps_per_epoch=steps_per_epoch,\n",
    "        epochs=epochs,\n",
    "        validation_data=pescador.maps.keras_tuples(test_batches, 'X', 'y'),\n",
    "        validation_steps=1024,\n",
    "        verbose=1\n",
    "        )"
   ]
  },
  {
   "cell_type": "code",
   "execution_count": null,
   "metadata": {
    "collapsed": true
   },
   "outputs": [],
   "source": [
    "scores = new_model.evaluate(X_test, Y_test, verbose=0)"
   ]
  },
  {
   "cell_type": "code",
   "execution_count": null,
   "metadata": {
    "collapsed": true
   },
   "outputs": [],
   "source": []
  },
  {
   "cell_type": "code",
   "execution_count": null,
   "metadata": {
    "collapsed": true
   },
   "outputs": [],
   "source": []
  },
  {
   "cell_type": "markdown",
   "metadata": {},
   "source": [
    "# Use pickle to store preprocessed features"
   ]
  },
  {
   "cell_type": "code",
   "execution_count": 91,
   "metadata": {
    "collapsed": true
   },
   "outputs": [],
   "source": [
    "#this takes input as batch size and output the input batch and ground truth labels\n",
    "def batchmatrix_pickle(df,idx, folder):\n",
    "    #idx=np.arange(0,df.shape[0])\n",
    "    #np.random.shuffle(idx)\n",
    "    #idx_shuffled=idx[:batch_size]\n",
    "    batchmatrix=np.zeros((1,96,64))\n",
    "    batchy=np.zeros((batch_size,188))\n",
    "    for m,i in enumerate(idx):\n",
    "        x,fs=librosa.load(df[\"mp3_path\"][i])\n",
    "        X=preprocess_sound.preprocess_sound(x, fs)\n",
    "        X_slice=X[random.randint(0,X.shape[0]-1),:,:]\n",
    "        batchmatrix=X_slice\n",
    "        batchy=df.values[i,1:-1]\n",
    "        output = open('./pickles/'+folder+'/'+str(i)+'.pkl', 'wb')\n",
    "        pickle.dump([batchmatrix,batchy], output)\n",
    "        output.close()\n",
    "        \n",
    "    return 0"
   ]
  },
  {
   "cell_type": "code",
   "execution_count": null,
   "metadata": {
    "collapsed": true
   },
   "outputs": [],
   "source": [
    "import pickle\n",
    "batchmatrix_pickle(df,test_idx, test)\n",
    "batchmatrix_pickle(df,train_idx, train)"
   ]
  },
  {
   "cell_type": "code",
   "execution_count": null,
   "metadata": {
    "collapsed": true
   },
   "outputs": [],
   "source": [
    "import pprint, pickle\n",
    "\n",
    "pkl_file = open('./pickles/data1410.pkl', 'rb')\n",
    "\n",
    "data1,y = pickle.load(pkl_file)\n",
    "pprint.pprint(data1)\n",
    "\n",
    "pkl_file.close()"
   ]
  },
  {
   "cell_type": "code",
   "execution_count": 90,
   "metadata": {},
   "outputs": [
    {
     "data": {
      "text/plain": [
       "(188,)"
      ]
     },
     "execution_count": 90,
     "metadata": {},
     "output_type": "execute_result"
    }
   ],
   "source": [
    "y.shape"
   ]
  },
  {
   "cell_type": "code",
   "execution_count": null,
   "metadata": {
    "collapsed": true
   },
   "outputs": [],
   "source": []
  },
  {
   "cell_type": "code",
   "execution_count": null,
   "metadata": {
    "collapsed": true
   },
   "outputs": [],
   "source": []
  }
 ],
 "metadata": {
  "kernelspec": {
   "display_name": "Python 3",
   "language": "python",
   "name": "python3"
  },
  "language_info": {
   "codemirror_mode": {
    "name": "ipython",
    "version": 3
   },
   "file_extension": ".py",
   "mimetype": "text/x-python",
   "name": "python",
   "nbconvert_exporter": "python",
   "pygments_lexer": "ipython3",
   "version": "3.7.3"
  }
 },
 "nbformat": 4,
 "nbformat_minor": 2
}
